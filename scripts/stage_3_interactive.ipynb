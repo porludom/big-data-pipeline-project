{
 "cells": [
  {
   "cell_type": "code",
   "execution_count": 1,
   "id": "34eb2d52-f03f-444c-9e80-ce5e3e335297",
   "metadata": {},
   "outputs": [],
   "source": [
    "from pyspark.sql import SparkSession\n",
    "from pyspark.ml import Transformer\n",
    "from pyspark.ml.util import DefaultParamsReadable, DefaultParamsWritable\n",
    "from pyspark.sql.functions import col, sin, cos, radians\n",
    "from pyspark.sql import DataFrame\n",
    "from pyspark.ml.feature import StringIndexer\n",
    "from pyspark.ml import Pipeline\n",
    "team = 19\n",
    "warehouse = \"project/warehouse\""
   ]
  },
  {
   "cell_type": "code",
   "execution_count": 2,
   "id": "533bc52a-650f-4119-8e5f-85ef1fb0fede",
   "metadata": {},
   "outputs": [],
   "source": [
    "spark = SparkSession.builder\\\n",
    "        .appName(\"{} - spark ML\".format(team))\\\n",
    "        .master(\"yarn\")\\\n",
    "        .config(\"hive.metastore.uris\", \"thrift://hadoop-02.uni.innopolis.ru:9883\")\\\n",
    "        .config(\"spark.sql.warehouse.dir\", warehouse)\\\n",
    "        .config(\"spark.sql.avro.compression.codec\", \"snappy\")\\\n",
    "        .enableHiveSupport()\\\n",
    "        .getOrCreate()"
   ]
  },
  {
   "cell_type": "code",
   "execution_count": 3,
   "id": "a5a7e6b3-deba-4954-b1fb-e77ec09b1a7f",
   "metadata": {},
   "outputs": [
    {
     "name": "stdout",
     "output_type": "stream",
     "text": [
      "air_quality\n",
      "astronomical_data_part\n",
      "locations\n",
      "q1_results\n",
      "q2_results\n",
      "q4_results\n",
      "q5_results\n",
      "weather_conditions\n"
     ]
    }
   ],
   "source": [
    "for table in spark.catalog.listTables(\"team19_projectdb\"):\n",
    "    print(table.name)"
   ]
  },
  {
   "cell_type": "code",
   "execution_count": 4,
   "id": "62f89d41-1a42-45cf-b221-5f32b42ca4ad",
   "metadata": {},
   "outputs": [],
   "source": [
    "air_quality = spark.read.format(\"avro\").table('team19_projectdb.air_quality')\n",
    "astronomical_data = spark.read.format(\"avro\").table('team19_projectdb.astronomical_data_part')\n",
    "locations = spark.read.format(\"avro\").table('team19_projectdb.locations')\n",
    "weather_conditions = spark.read.format(\"avro\").table('team19_projectdb.weather_conditions')"
   ]
  },
  {
   "cell_type": "code",
   "execution_count": null,
   "id": "82a16666-b853-410b-b04c-470cc4570e96",
   "metadata": {},
   "outputs": [],
   "source": [
    "table_for_ML = air_quality.join(locations, on=[\"id\"], how=\"inner\").join(weather_conditions, on=[\"id\"], how=\"inner\")"
   ]
  },
  {
   "cell_type": "code",
   "execution_count": 20,
   "id": "3d875b7c-73d7-442e-a36c-1387c6f8df75",
   "metadata": {},
   "outputs": [
    {
     "name": "stdout",
     "output_type": "stream",
     "text": [
      "root\n",
      " |-- id: integer (nullable = true)\n",
      " |-- air_quality_carbon_monoxide: double (nullable = true)\n",
      " |-- air_quality_ozone: double (nullable = true)\n",
      " |-- air_quality_nitrogen_dioxide: double (nullable = true)\n",
      " |-- air_quality_sulphur_dioxide: double (nullable = true)\n",
      " |-- air_quality_pm2_5: double (nullable = true)\n",
      " |-- air_quality_pm10: double (nullable = true)\n",
      " |-- air_quality_us_epa_index: integer (nullable = true)\n",
      " |-- air_quality_gb_defra_index: integer (nullable = true)\n",
      " |-- country: string (nullable = true)\n",
      " |-- location_name: string (nullable = true)\n",
      " |-- latitude: double (nullable = true)\n",
      " |-- longitude: double (nullable = true)\n",
      " |-- timezone: string (nullable = true)\n",
      " |-- last_updated_epoch: integer (nullable = true)\n",
      " |-- last_updated: long (nullable = true)\n",
      " |-- temperature_celsius: double (nullable = true)\n",
      " |-- temperature_fahrenheit: double (nullable = true)\n",
      " |-- condition_text: string (nullable = true)\n",
      " |-- wind_mph: double (nullable = true)\n",
      " |-- wind_kph: double (nullable = true)\n",
      " |-- wind_degree: integer (nullable = true)\n",
      " |-- wind_direction: string (nullable = true)\n",
      " |-- pressure_mb: double (nullable = true)\n",
      " |-- pressure_in: double (nullable = true)\n",
      " |-- precip_mm: double (nullable = true)\n",
      " |-- precip_in: double (nullable = true)\n",
      " |-- humidity: integer (nullable = true)\n",
      " |-- cloud: integer (nullable = true)\n",
      " |-- feels_like_celsius: double (nullable = true)\n",
      " |-- feels_like_fahrenheit: double (nullable = true)\n",
      " |-- visibility_km: double (nullable = true)\n",
      " |-- visibility_miles: double (nullable = true)\n",
      " |-- uv_index: double (nullable = true)\n",
      " |-- gust_mph: double (nullable = true)\n",
      " |-- gust_kph: double (nullable = true)\n",
      "\n"
     ]
    }
   ],
   "source": [
    "table_for_ML.printSchema()"
   ]
  },
  {
   "cell_type": "code",
   "execution_count": 24,
   "id": "d262d64c-f860-4246-b112-b91a4ba85cab",
   "metadata": {},
   "outputs": [],
   "source": [
    "class LatLongToECEF(Transformer, DefaultParamsReadable, DefaultParamsWritable):\n",
    "    def __init__(self):\n",
    "        super(LatLongToECEF, self).__init__()\n",
    "\n",
    "    def _transform(self, df: DataFrame) -> DataFrame:\n",
    "        # WGS84 constants\n",
    "        a = 6378137.0  # semi-major axis\n",
    "        e2 = 6.6943799901377997e-3\n",
    "\n",
    "        # Convert degrees to radians\n",
    "        lat_rad = radians(col(\"latitude\"))\n",
    "        lon_rad = radians(col(\"longitude\"))\n",
    "\n",
    "        # Calculate ECEF coordinates\n",
    "        N = a / (1 - e2 * sin(lat_rad) ** 2) ** 0.5\n",
    "\n",
    "        X = N * cos(lat_rad) * cos(lon_rad)\n",
    "        Y = N * cos(lat_rad) * sin(lon_rad)\n",
    "        Z = (1-e2) * N * sin(lat_rad)\n",
    "\n",
    "        return df.withColumn(\"x\", X).withColumn(\"y\", Y).withColumn(\"z\", Z)\n",
    "\n",
    "\n",
    "ecof_transformer = LatLongToECEF()"
   ]
  },
  {
   "cell_type": "code",
   "execution_count": 25,
   "id": "b1ecc073-0c39-4e3a-bf84-44eaf4656479",
   "metadata": {},
   "outputs": [
    {
     "data": {
      "text/plain": [
       "[Row(id=1, air_quality_carbon_monoxide=647.5, air_quality_ozone=130.2, air_quality_nitrogen_dioxide=1.2, air_quality_sulphur_dioxide=0.4, air_quality_pm2_5=7.9, air_quality_pm10=11.1, air_quality_us_epa_index=1, air_quality_gb_defra_index=1, country='Afghanistan', location_name='Kabul', latitude=34.52, longitude=69.18, timezone='Asia/Kabul', last_updated_epoch=1693301400, last_updated=1693306800000, temperature_celsius=28.8, temperature_fahrenheit=83.8, condition_text='Sunny', wind_mph=7.2, wind_kph=11.5, wind_degree=74, wind_direction='ENE', pressure_mb=1004.0, pressure_in=29.64, precip_mm=0.0, precip_in=0.0, humidity=19, cloud=0, feels_like_celsius=26.7, feels_like_fahrenheit=80.1, visibility_km=10.0, visibility_miles=6.0, uv_index=7.0, gust_mph=8.3, gust_kph=13.3, x=1869858.4270867545, y=4917265.761836958, z=3594120.1546326494)]"
      ]
     },
     "execution_count": 25,
     "metadata": {},
     "output_type": "execute_result"
    }
   ],
   "source": [
    "ecof_transformer.transform(table_for_ML).head(1)"
   ]
  },
  {
   "cell_type": "code",
   "execution_count": 37,
   "id": "42c9f6b4-9723-499c-8b7d-a40c137d6e6a",
   "metadata": {},
   "outputs": [],
   "source": [
    "# target is string, so cast to int\n",
    "indexer = StringIndexer(inputCol=\"condition_text\", outputCol=\"target\")"
   ]
  },
  {
   "cell_type": "code",
   "execution_count": 38,
   "id": "a4dab00a-66f5-47e8-9125-b83288740bad",
   "metadata": {},
   "outputs": [
    {
     "data": {
      "text/plain": [
       "[Row(id=1, air_quality_carbon_monoxide=647.5, air_quality_ozone=130.2, air_quality_nitrogen_dioxide=1.2, air_quality_sulphur_dioxide=0.4, air_quality_pm2_5=7.9, air_quality_pm10=11.1, air_quality_us_epa_index=1, air_quality_gb_defra_index=1, country='Afghanistan', location_name='Kabul', latitude=34.52, longitude=69.18, timezone='Asia/Kabul', last_updated_epoch=1693301400, last_updated=1693306800000, temperature_celsius=28.8, temperature_fahrenheit=83.8, condition_text='Sunny', wind_mph=7.2, wind_kph=11.5, wind_degree=74, wind_direction='ENE', pressure_mb=1004.0, pressure_in=29.64, precip_mm=0.0, precip_in=0.0, humidity=19, cloud=0, feels_like_celsius=26.7, feels_like_fahrenheit=80.1, visibility_km=10.0, visibility_miles=6.0, uv_index=7.0, gust_mph=8.3, gust_kph=13.3, target=2.0)]"
      ]
     },
     "execution_count": 38,
     "metadata": {},
     "output_type": "execute_result"
    }
   ],
   "source": [
    "indexer.fit(table_for_ML).transform(table_for_ML).head(1)"
   ]
  },
  {
   "cell_type": "code",
   "execution_count": 29,
   "id": "d88474ac-59a4-415a-be20-2e3842a6b5fa",
   "metadata": {},
   "outputs": [],
   "source": [
    "features = [\"air_quality_carbon_monoxide\", \"air_quality_ozone\", \"air_quality_nitrogen_dioxide\", \"air_quality_pm2_5\", \"air_quality_pm10\" , \"air_quality_us_epa_index\", \"air_quality_gb_defra_index\",\\\n",
    "            \"temperature_celsius\", \"wind_kph\", \"wind_degree\", \"pressure_mb\", \"precip_mm\", \"humidity\", \"cloud\", \"feels_like_celsius\", \"visibility_km\", \"gust_mph\", \"x\", \"y\", \"z\"]\n",
    "\n",
    "label = \"target\""
   ]
  },
  {
   "cell_type": "code",
   "execution_count": 36,
   "id": "7c93926d-18c9-4fed-a4bd-f4f76068e7f0",
   "metadata": {},
   "outputs": [],
   "source": [
    "pipeline = Pipeline(stages=[indexer, ecof_transformer])"
   ]
  },
  {
   "cell_type": "code",
   "execution_count": 39,
   "id": "42e23278-b6b7-4015-a6d4-678b611c6cc1",
   "metadata": {},
   "outputs": [],
   "source": [
    "model = pipeline.fit(table_for_ML)\n",
    "data = model.transform(table_for_ML)"
   ]
  },
  {
   "cell_type": "code",
   "execution_count": 41,
   "id": "3a26383f-3f1b-4eea-abb2-b720f1ec3012",
   "metadata": {},
   "outputs": [],
   "source": [
    "(train_data, test_data) = data.randomSplit([0.6, 0.4], seed = 10)"
   ]
  },
  {
   "cell_type": "code",
   "execution_count": null,
   "id": "55ac1e5c-d669-4c84-b168-59dcf7deecf6",
   "metadata": {},
   "outputs": [],
   "source": []
  }
 ],
 "metadata": {
  "kernelspec": {
   "display_name": "Pyspark 3",
   "language": "python",
   "name": "python3"
  },
  "language_info": {
   "codemirror_mode": {
    "name": "ipython",
    "version": 3
   },
   "file_extension": ".py",
   "mimetype": "text/x-python",
   "name": "python",
   "nbconvert_exporter": "python",
   "pygments_lexer": "ipython3",
   "version": "3.6.8"
  }
 },
 "nbformat": 4,
 "nbformat_minor": 5
}
