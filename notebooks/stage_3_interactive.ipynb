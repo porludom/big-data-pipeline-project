{
 "cells": [
  {
   "cell_type": "code",
   "execution_count": 1,
   "id": "34eb2d52-f03f-444c-9e80-ce5e3e335297",
   "metadata": {},
   "outputs": [],
   "source": [
    "from pyspark.sql import SparkSession\n",
    "from pyspark.ml import Transformer\n",
    "from pyspark.ml.util import DefaultParamsReadable, DefaultParamsWritable\n",
    "from pyspark.sql.functions import col, sin, cos, radians\n",
    "from pyspark.sql import DataFrame\n",
    "from pyspark.ml.classification import DecisionTreeClassifier, RandomForestClassifier\n",
    "from pyspark.ml.feature import StringIndexer, VectorAssembler\n",
    "from pyspark.ml import Pipeline\n",
    "from pyspark.ml.evaluation import MulticlassClassificationEvaluator\n",
    "from pyspark.ml.tuning import ParamGridBuilder, CrossValidator\n",
    "import pandas as pd\n",
    "import os\n",
    "\n",
    "\n",
    "TEAM = 19\n",
    "WAREHOUSE = \"project/warehouse\""
   ]
  },
  {
   "cell_type": "code",
   "execution_count": 2,
   "id": "533bc52a-650f-4119-8e5f-85ef1fb0fede",
   "metadata": {},
   "outputs": [],
   "source": [
    "spark = SparkSession.builder\\\n",
    "        .appName(f\"{TEAM} - spark ML\")\\\n",
    "        .master(\"yarn\")\\\n",
    "        .config(\"hive.metastore.uris\",\n",
    "                \"thrift://hadoop-02.uni.innopolis.ru:9883\")\\\n",
    "        .config(\"spark.sql.warehouse.dir\", WAREHOUSE)\\\n",
    "        .config(\"spark.sql.avro.compression.codec\", \"snappy\")\\\n",
    "        .enableHiveSupport()\\\n",
    "        .getOrCreate()"
   ]
  },
  {
   "cell_type": "code",
   "execution_count": 3,
   "id": "a5a7e6b3-deba-4954-b1fb-e77ec09b1a7f",
   "metadata": {},
   "outputs": [
    {
     "name": "stdout",
     "output_type": "stream",
     "text": [
      "air_quality\n",
      "astronomical_data_part\n",
      "locations\n",
      "q1_results\n",
      "q2_results\n",
      "q4_results\n",
      "q5_results\n",
      "weather_conditions\n"
     ]
    }
   ],
   "source": [
    "for table in spark.catalog.listTables(\"team19_projectdb\"):\n",
    "    print(table.name)"
   ]
  },
  {
   "cell_type": "code",
   "execution_count": 4,
   "id": "62f89d41-1a42-45cf-b221-5f32b42ca4ad",
   "metadata": {},
   "outputs": [],
   "source": [
    "air_quality = spark.read.format(\"avro\").table('team19_projectdb.air_quality')\n",
    "astronomical_data = spark.read.format(\"avro\").table('team19_projectdb.astronomical_data_part')\n",
    "locations = spark.read.format(\"avro\").table('team19_projectdb.locations')\n",
    "weather_conditions = spark.read.format(\"avro\").table('team19_projectdb.weather_conditions')"
   ]
  },
  {
   "cell_type": "code",
   "execution_count": 5,
   "id": "82a16666-b853-410b-b04c-470cc4570e96",
   "metadata": {},
   "outputs": [],
   "source": [
    "table_for_ML = air_quality.join(locations, on=[\"id\"], how=\"inner\").join(weather_conditions, on=[\"id\"], how=\"inner\")"
   ]
  },
  {
   "cell_type": "code",
   "execution_count": 6,
   "id": "d262d64c-f860-4246-b112-b91a4ba85cab",
   "metadata": {},
   "outputs": [],
   "source": [
    "class LatLongToECEF(Transformer, DefaultParamsReadable, DefaultParamsWritable):\n",
    "    def __init__(self):\n",
    "        super(LatLongToECEF, self).__init__()\n",
    "\n",
    "    def _transform(self, df: DataFrame) -> DataFrame:\n",
    "        # WGS84 constants\n",
    "        a = 6378137.0  # semi-major axis\n",
    "        e2 = 6.6943799901377997e-3\n",
    "\n",
    "        # Convert degrees to radians\n",
    "        lat_rad = radians(col(\"latitude\"))\n",
    "        lon_rad = radians(col(\"longitude\"))\n",
    "\n",
    "        # Calculate ECEF coordinates\n",
    "        N = a / (1 - e2 * sin(lat_rad) ** 2) ** 0.5\n",
    "\n",
    "        X = N * cos(lat_rad) * cos(lon_rad)\n",
    "        Y = N * cos(lat_rad) * sin(lon_rad)\n",
    "        Z = (1-e2) * N * sin(lat_rad)\n",
    "\n",
    "        return df.withColumn(\"x\", X).withColumn(\"y\", Y).withColumn(\"z\", Z)\n",
    "\n",
    "\n",
    "ecof_transformer = LatLongToECEF()"
   ]
  },
  {
   "cell_type": "code",
   "execution_count": 25,
   "id": "b1ecc073-0c39-4e3a-bf84-44eaf4656479",
   "metadata": {},
   "outputs": [
    {
     "data": {
      "text/plain": [
       "[Row(id=1, air_quality_carbon_monoxide=647.5, air_quality_ozone=130.2, air_quality_nitrogen_dioxide=1.2, air_quality_sulphur_dioxide=0.4, air_quality_pm2_5=7.9, air_quality_pm10=11.1, air_quality_us_epa_index=1, air_quality_gb_defra_index=1, country='Afghanistan', location_name='Kabul', latitude=34.52, longitude=69.18, timezone='Asia/Kabul', last_updated_epoch=1693301400, last_updated=1693306800000, temperature_celsius=28.8, temperature_fahrenheit=83.8, condition_text='Sunny', wind_mph=7.2, wind_kph=11.5, wind_degree=74, wind_direction='ENE', pressure_mb=1004.0, pressure_in=29.64, precip_mm=0.0, precip_in=0.0, humidity=19, cloud=0, feels_like_celsius=26.7, feels_like_fahrenheit=80.1, visibility_km=10.0, visibility_miles=6.0, uv_index=7.0, gust_mph=8.3, gust_kph=13.3, x=1869858.4270867545, y=4917265.761836958, z=3594120.1546326494)]"
      ]
     },
     "execution_count": 25,
     "metadata": {},
     "output_type": "execute_result"
    }
   ],
   "source": [
    "ecof_transformer.transform(table_for_ML).head(1)"
   ]
  },
  {
   "cell_type": "code",
   "execution_count": 8,
   "id": "42c9f6b4-9723-499c-8b7d-a40c137d6e6a",
   "metadata": {},
   "outputs": [],
   "source": [
    "# target is string, so cast to int\n",
    "indexer = StringIndexer(inputCol=\"condition_text\", outputCol=\"label\")"
   ]
  },
  {
   "cell_type": "code",
   "execution_count": 38,
   "id": "a4dab00a-66f5-47e8-9125-b83288740bad",
   "metadata": {},
   "outputs": [
    {
     "data": {
      "text/plain": [
       "[Row(id=1, air_quality_carbon_monoxide=647.5, air_quality_ozone=130.2, air_quality_nitrogen_dioxide=1.2, air_quality_sulphur_dioxide=0.4, air_quality_pm2_5=7.9, air_quality_pm10=11.1, air_quality_us_epa_index=1, air_quality_gb_defra_index=1, country='Afghanistan', location_name='Kabul', latitude=34.52, longitude=69.18, timezone='Asia/Kabul', last_updated_epoch=1693301400, last_updated=1693306800000, temperature_celsius=28.8, temperature_fahrenheit=83.8, condition_text='Sunny', wind_mph=7.2, wind_kph=11.5, wind_degree=74, wind_direction='ENE', pressure_mb=1004.0, pressure_in=29.64, precip_mm=0.0, precip_in=0.0, humidity=19, cloud=0, feels_like_celsius=26.7, feels_like_fahrenheit=80.1, visibility_km=10.0, visibility_miles=6.0, uv_index=7.0, gust_mph=8.3, gust_kph=13.3, target=2.0)]"
      ]
     },
     "execution_count": 38,
     "metadata": {},
     "output_type": "execute_result"
    }
   ],
   "source": [
    "indexer.fit(table_for_ML).transform(table_for_ML).head(1)"
   ]
  },
  {
   "cell_type": "code",
   "execution_count": 9,
   "id": "d88474ac-59a4-415a-be20-2e3842a6b5fa",
   "metadata": {},
   "outputs": [],
   "source": [
    "features = [\"air_quality_carbon_monoxide\", \"air_quality_ozone\", \"air_quality_nitrogen_dioxide\", \"air_quality_pm2_5\", \"air_quality_pm10\" , \"air_quality_us_epa_index\", \"air_quality_gb_defra_index\",\\\n",
    "            \"temperature_celsius\", \"wind_kph\", \"wind_degree\", \"pressure_mb\", \"precip_mm\", \"humidity\", \"cloud\", \"feels_like_celsius\", \"visibility_km\", \"gust_mph\", \"x\", \"y\", \"z\"]\n",
    "\n",
    "label = \"label\""
   ]
  },
  {
   "cell_type": "code",
   "execution_count": 10,
   "id": "83e76544-66ec-4c65-b409-78f5f488a32b",
   "metadata": {},
   "outputs": [],
   "source": [
    "assembler = VectorAssembler(inputCols=features, outputCol= \"features\")"
   ]
  },
  {
   "cell_type": "code",
   "execution_count": 11,
   "id": "7c93926d-18c9-4fed-a4bd-f4f76068e7f0",
   "metadata": {},
   "outputs": [],
   "source": [
    "pipeline = Pipeline(stages=[indexer, ecof_transformer, assembler])"
   ]
  },
  {
   "cell_type": "code",
   "execution_count": 12,
   "id": "42e23278-b6b7-4015-a6d4-678b611c6cc1",
   "metadata": {},
   "outputs": [],
   "source": [
    "model = pipeline.fit(table_for_ML)\n",
    "data = model.transform(table_for_ML)"
   ]
  },
  {
   "cell_type": "code",
   "execution_count": 13,
   "id": "c6ae3d51-bdec-4487-9ad8-cd3b5951e6e6",
   "metadata": {},
   "outputs": [
    {
     "data": {
      "text/plain": [
       "[Row(features=DenseVector([647.5, 130.2, 1.2, 7.9, 11.1, 1.0, 1.0, 28.8, 11.5, 74.0, 1004.0, 0.0, 19.0, 0.0, 26.7, 10.0, 8.3, 1869858.4271, 4917265.7618, 3594120.1546]), label=2.0)]"
      ]
     },
     "execution_count": 13,
     "metadata": {},
     "output_type": "execute_result"
    }
   ],
   "source": [
    "data = data.select([\"features\", \"label\"])\n",
    "data.head(1)"
   ]
  },
  {
   "cell_type": "code",
   "execution_count": 14,
   "id": "3edb0c80-3cf5-4eb9-bd27-2427fbb7c68d",
   "metadata": {},
   "outputs": [],
   "source": [
    "def run(command):\n",
    "    return os.popen(command).read()"
   ]
  },
  {
   "cell_type": "code",
   "execution_count": 15,
   "id": "3a26383f-3f1b-4eea-abb2-b720f1ec3012",
   "metadata": {},
   "outputs": [],
   "source": [
    "(train_data, test_data) = data.randomSplit([0.75, 0.25], seed = 10)"
   ]
  },
  {
   "cell_type": "code",
   "execution_count": 16,
   "id": "f3f77d4a-2480-403b-bd12-9378e75431be",
   "metadata": {},
   "outputs": [
    {
     "data": {
      "text/plain": [
       "''"
      ]
     },
     "execution_count": 16,
     "metadata": {},
     "output_type": "execute_result"
    }
   ],
   "source": [
    "train_data.write\\\n",
    "    .mode(\"overwrite\")\\\n",
    "    .format(\"json\")\\\n",
    "    .save(\"project/data/train\")\n",
    "\n",
    "test_data.write\\\n",
    "    .mode(\"overwrite\")\\\n",
    "    .format(\"json\")\\\n",
    "    .save(\"project/data/test\")\n",
    "\n",
    "run(\"hdfs dfs -cat project/data/train/*.json > ~/project/big-data-pipeline-project/data/train.json\")\n",
    "run(\"hdfs dfs -cat project/data/test/*.json > ~/project/big-data-pipeline-project/data/test.json\")"
   ]
  },
  {
   "cell_type": "code",
   "execution_count": 35,
   "id": "419f58dd-5c3a-4e67-90b7-b75d1d852b52",
   "metadata": {},
   "outputs": [
    {
     "data": {
      "text/plain": [
       "0.7825053623915481"
      ]
     },
     "execution_count": 35,
     "metadata": {},
     "output_type": "execute_result"
    }
   ],
   "source": [
    "# FIRST MODEL TUNING\n",
    "classifier_1 = DecisionTreeClassifier()\n",
    "\n",
    "grid = ParamGridBuilder()\n",
    "grid = grid.addGrid(classifier_1.maxDepth, [5, 7, 10]).addGrid(classifier_1.maxBins, [16, 32, 64]).build()\n",
    "\n",
    "evaluator = MulticlassClassificationEvaluator()\\\n",
    "  .setLabelCol(\"label\")\\\n",
    "  .setPredictionCol(\"prediction\")\\\n",
    "  .setMetricName(\"f1\")\n",
    "\n",
    "cv = CrossValidator(estimator=classifier_1,\n",
    "                    estimatorParamMaps=grid,\n",
    "                    evaluator=evaluator,\n",
    "                    parallelism=5,\n",
    "                    numFolds=3)\n",
    "\n",
    "cvModel = cv.fit(train_data)\n",
    "bestModel_1 = cvModel.bestModel\n",
    "\n",
    "predictions = bestModel_1.transform(test_data)\n",
    "\n",
    "f1_1 = evaluator.evaluate(predictions)\n",
    "\n",
    "f1_1"
   ]
  },
  {
   "cell_type": "code",
   "execution_count": 28,
   "id": "39b0e6c0-c8c5-433f-a1eb-54e412860e95",
   "metadata": {},
   "outputs": [],
   "source": [
    "bestModel_1.write().overwrite().save(\"project/models/model1\")"
   ]
  },
  {
   "cell_type": "code",
   "execution_count": 26,
   "id": "81dfefca-c763-4110-8f99-b58af2ec6bfd",
   "metadata": {},
   "outputs": [
    {
     "data": {
      "text/plain": [
       "''"
      ]
     },
     "execution_count": 26,
     "metadata": {},
     "output_type": "execute_result"
    }
   ],
   "source": [
    "predictions.select(predictions['label'], predictions[\"prediction\"]).coalesce(1).write.csv('project/output/model1_predictions', header=True, mode = \"overwrite\")\n",
    "run(\"hdfs dfs -mv project/output/model1_predictions/*.csv project/output/model1_predictions/model1_predictions.csv\")\n",
    "run(\"hdfs dfs -cat project/output/model1_predictions/model1_predictions.csv > ~/project/big-data-pipeline-project/output/model1_predictions.csv\")"
   ]
  },
  {
   "cell_type": "code",
   "execution_count": 36,
   "id": "a883df54-a91e-4077-81cd-28e8440cdab9",
   "metadata": {},
   "outputs": [
    {
     "data": {
      "text/plain": [
       "0.7013255234970799"
      ]
     },
     "execution_count": 36,
     "metadata": {},
     "output_type": "execute_result"
    }
   ],
   "source": [
    "# SECOND MODEL TUNING\n",
    "classifier_2 = RandomForestClassifier()\n",
    "\n",
    "grid = ParamGridBuilder()\n",
    "grid = grid.addGrid(classifier_2.maxDepth, [3,5,7]).addGrid(classifier_2.maxBins, [8,16,32]).addGrid(classifier_2.minInstancesPerNode, [1,2,4]).build()\n",
    "\n",
    "evaluator = MulticlassClassificationEvaluator()\\\n",
    "  .setLabelCol(\"label\")\\\n",
    "  .setPredictionCol(\"prediction\")\\\n",
    "  .setMetricName(\"f1\")\n",
    "\n",
    "cv = CrossValidator(estimator=classifier_2,\n",
    "                    estimatorParamMaps=grid,\n",
    "                    evaluator=evaluator,\n",
    "                    parallelism=5,\n",
    "                    numFolds=3)\n",
    "\n",
    "cvModel = cv.fit(train_data)\n",
    "bestModel_2 = cvModel.bestModel\n",
    "\n",
    "predictions = bestModel_2.transform(test_data)\n",
    "\n",
    "f1_2 = evaluator.evaluate(predictions)\n",
    "f1_2"
   ]
  },
  {
   "cell_type": "code",
   "execution_count": 30,
   "id": "65194f4d-cd64-44db-876f-330c7153e0c9",
   "metadata": {},
   "outputs": [],
   "source": [
    "bestModel_2.write().overwrite().save(\"project/models/model2\")"
   ]
  },
  {
   "cell_type": "code",
   "execution_count": 31,
   "id": "72b8d402-7f8f-4277-be9f-afe2e557a109",
   "metadata": {},
   "outputs": [
    {
     "data": {
      "text/plain": [
       "''"
      ]
     },
     "execution_count": 31,
     "metadata": {},
     "output_type": "execute_result"
    }
   ],
   "source": [
    "predictions.select(predictions['label'], predictions[\"prediction\"]).coalesce(1).write.csv('project/output/model2_predictions', header=True, mode = \"overwrite\")\n",
    "run(\"hdfs dfs -mv project/output/model2_predictions/*.csv project/output/model2_predictions/model2_predictions.csv\")\n",
    "run(\"hdfs dfs -cat project/output/model2_predictions/model2_predictions.csv > ~/project/big-data-pipeline-project/output/model2_predictions.csv\")"
   ]
  },
  {
   "cell_type": "code",
   "execution_count": 32,
   "id": "857c553b-128a-493e-a9bb-73aae7af3247",
   "metadata": {},
   "outputs": [],
   "source": [
    "# MOVING MODELS"
   ]
  },
  {
   "cell_type": "code",
   "execution_count": 52,
   "id": "3995db15-76d1-4fbd-99f0-a5c910ddd5e9",
   "metadata": {},
   "outputs": [
    {
     "data": {
      "text/plain": [
       "''"
      ]
     },
     "execution_count": 52,
     "metadata": {},
     "output_type": "execute_result"
    }
   ],
   "source": [
    "run(\"hdfs dfs -get project/models/model1 ~/project/big-data-pipeline-project/models/\")"
   ]
  },
  {
   "cell_type": "code",
   "execution_count": 53,
   "id": "f87ea72a-7319-48c2-ac83-9935dbc8b684",
   "metadata": {},
   "outputs": [
    {
     "data": {
      "text/plain": [
       "''"
      ]
     },
     "execution_count": 53,
     "metadata": {},
     "output_type": "execute_result"
    }
   ],
   "source": [
    "run(\"hdfs dfs -get project/models/model2 ~/project/big-data-pipeline-project/models/\")"
   ]
  },
  {
   "cell_type": "code",
   "execution_count": 37,
   "id": "18828468-5b14-4367-ad5a-be74276e3e5d",
   "metadata": {},
   "outputs": [
    {
     "data": {
      "text/html": [
       "<div>\n",
       "<style scoped>\n",
       "    .dataframe tbody tr th:only-of-type {\n",
       "        vertical-align: middle;\n",
       "    }\n",
       "\n",
       "    .dataframe tbody tr th {\n",
       "        vertical-align: top;\n",
       "    }\n",
       "\n",
       "    .dataframe thead th {\n",
       "        text-align: right;\n",
       "    }\n",
       "</style>\n",
       "<table border=\"1\" class=\"dataframe\">\n",
       "  <thead>\n",
       "    <tr style=\"text-align: right;\">\n",
       "      <th></th>\n",
       "      <th>model</th>\n",
       "      <th>f1</th>\n",
       "    </tr>\n",
       "  </thead>\n",
       "  <tbody>\n",
       "    <tr>\n",
       "      <th>0</th>\n",
       "      <td>DecisionTreeClassificationModel: uid=DecisionT...</td>\n",
       "      <td>0.782505</td>\n",
       "    </tr>\n",
       "    <tr>\n",
       "      <th>1</th>\n",
       "      <td>RandomForestClassificationModel: uid=RandomFor...</td>\n",
       "      <td>0.701326</td>\n",
       "    </tr>\n",
       "  </tbody>\n",
       "</table>\n",
       "</div>"
      ],
      "text/plain": [
       "                                               model        f1\n",
       "0  DecisionTreeClassificationModel: uid=DecisionT...  0.782505\n",
       "1  RandomForestClassificationModel: uid=RandomFor...  0.701326"
      ]
     },
     "execution_count": 37,
     "metadata": {},
     "output_type": "execute_result"
    }
   ],
   "source": [
    "comparison_data = {\n",
    "    'model': [bestModel_1, bestModel_2],\n",
    "    'f1': [f1_1, f1_2]\n",
    "}\n",
    "\n",
    "# Create a Pandas DataFrame from the dictionary\n",
    "comparison_df = pd.DataFrame(comparison_data)\n",
    "comparison_df.head()"
   ]
  },
  {
   "cell_type": "code",
   "execution_count": 40,
   "id": "7bca0569-7c49-4c5d-9f69-680ec8d0b33c",
   "metadata": {},
   "outputs": [],
   "source": [
    "comparison_path_local = \"~/project/big-data-pipeline-project/output/evaluation.csv\"\n",
    "comparison_path_hdfs = \"project/output/evaluation.csv\""
   ]
  },
  {
   "cell_type": "code",
   "execution_count": 43,
   "id": "5679cbb7-7a94-4dfd-8bdb-7d1674d2d626",
   "metadata": {},
   "outputs": [],
   "source": [
    "comparison_df.to_csv(comparison_path_local, index=False)"
   ]
  }
 ],
 "metadata": {
  "kernelspec": {
   "display_name": "Pyspark 3",
   "language": "python",
   "name": "python3"
  },
  "language_info": {
   "codemirror_mode": {
    "name": "ipython",
    "version": 3
   },
   "file_extension": ".py",
   "mimetype": "text/x-python",
   "name": "python",
   "nbconvert_exporter": "python",
   "pygments_lexer": "ipython3",
   "version": "3.6.8"
  }
 },
 "nbformat": 4,
 "nbformat_minor": 5
}
